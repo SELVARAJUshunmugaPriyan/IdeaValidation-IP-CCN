{
 "cells": [
  {
   "cell_type": "code",
   "execution_count": 1,
   "metadata": {},
   "outputs": [],
   "source": [
    "import os"
   ]
  },
  {
   "cell_type": "code",
   "execution_count": 93,
   "metadata": {},
   "outputs": [
    {
     "name": "stdout",
     "output_type": "stream",
     "text": [
      "3x3,9,sdn,40,3.190,15.989,51.000,7.200,2\n",
      "2x2,4,mesh,16,3.138,15.537,48.755,33.133,1\n",
      "2x2,4,sdn,0,4.923,9.751,48.000,77.133,1\n",
      "2x2,4,sdn,10,10.110,4.748,48.000,88.471,1\n",
      "4x4,16,sdn,30,1.956,27.608,54.000,4.000,3\n",
      "5x5,25,mesh,30,0.296,214.673,63.500,1.286,6\n",
      "5x5,25,mesh,20,0.291,215.689,62.775,2.857,6\n",
      "3x3,9,sdn,16,2.522,20.223,51.000,17.647,2\n",
      "6x6,36,mesh,10,0.154,449.393,69.333,2.250,8\n",
      "2x2,4,mesh,2,4.919,9.893,48.668,85.600,1\n",
      "3x3,9,mesh,20,1.163,46.025,53.541,9.235,3\n",
      "4x4,16,mesh,30,0.476,123.024,58.500,2.000,4\n",
      "6x6,36,sdn,4,0.998,60.117,60.000,10.000,5\n",
      "5x5,25,sdn,2,1.083,52.640,57.000,13.133,4\n",
      "2x2,4,sdn,4,12.242,3.921,48.000,176.786,1\n",
      "3x3,9,sdn,10,2.807,18.170,51.000,26.600,2\n",
      "3x3,9,sdn,20,2.317,22.007,51.000,15.600,2\n",
      "5x5,25,mesh,2,0.258,249.544,64.483,5.438,6\n",
      "6x6,36,sdn,40,1.216,49.350,60.000,0.143,5\n",
      "5x5,25,mesh,4,0.247,255.735,63.152,4.938,6\n",
      "6x6,36,sdn,10,0.983,61.016,60.000,4.933,5\n",
      "5x5,25,sdn,0,0.837,68.072,57.000,12.933,4\n",
      "2x2,4,sdn,80,6.714,7.149,48.000,2.625,1\n",
      "6x6,36,mesh,30,0.165,405.273,67.000,1.000,7\n",
      "2x2,4,sdn,16,7.757,6.188,48.000,71.400,1\n",
      "4x4,16,mesh,40,0.476,119.380,56.824,1.308,4\n",
      "5x5,25,sdn,10,1.152,49.463,57.000,8.000,4\n",
      "6x6,36,mesh,40,0.192,335.358,64.500,0.500,6\n",
      "2x2,4,sdn,60,6.443,7.450,48.000,13.412,1\n",
      "5x5,25,mesh,16,0.279,229.491,64.000,3.000,6\n",
      "4x4,16,mesh,10,0.402,147.122,59.200,5.357,5\n",
      "2x2,4,mesh,20,2.751,17.683,48.642,30.200,1\n",
      "6x6,36,mesh,16,0.176,393.872,69.231,1.529,8\n",
      "3x3,9,mesh,30,1.127,47.160,53.165,5.643,3\n",
      "5x5,25,sdn,4,1.171,48.692,57.000,12.200,4\n",
      "2x2,4,mesh,60,3.485,13.814,48.144,6.500,1\n",
      "2x2,4,mesh,0,2.719,17.894,48.662,51.412,1\n",
      "2x2,4,mesh,80,2.953,16.256,48.000,1.385,1\n",
      "3x3,9,mesh,60,0.854,60.406,51.600,0.625,2\n",
      "2x2,4,sdn,30,7.507,6.394,48.000,44.800,1\n",
      "2x2,4,mesh,30,3.938,12.324,48.536,27.600,1\n",
      "3x3,9,sdn,4,3.218,15.846,51.000,50.867,2\n",
      "2x2,4,mesh,40,2.945,16.440,48.416,16.333,1\n",
      "3x3,9,mesh,16,1.149,46.370,53.263,11.667,3\n",
      "2x2,4,mesh,10,3.546,13.729,48.688,44.467,1\n",
      "5x5,25,mesh,10,0.246,261.827,64.500,3.529,6\n",
      "3x3,9,mesh,10,1.148,46.972,53.917,14.400,3\n",
      "6x6,36,sdn,0,0.788,76.148,60.000,11.812,5\n",
      "3x3,9,sdn,0,1.772,28.779,51.000,29.667,2\n",
      "3x3,9,mesh,0,1.005,53.931,54.198,23.200,3\n",
      "4x4,16,mesh,4,0.462,126.625,58.553,7.600,5\n",
      "5x5,25,sdn,20,1.003,56.806,57.000,3.533,4\n",
      "4x4,16,sdn,40,1.254,43.078,54.000,1.154,3\n",
      "4x4,16,sdn,2,1.421,37.997,54.000,17.933,3\n",
      "6x6,36,mesh,0,0.142,495.038,70.525,4.214,9\n",
      "4x4,16,mesh,16,0.502,117.159,58.859,4.733,5\n",
      "4x4,16,sdn,0,1.351,39.976,54.000,21.600,3\n",
      "5x5,25,sdn,16,1.091,52.259,57.000,4.867,4\n",
      "5x5,25,mesh,40,0.312,201.629,63.000,0.636,6\n",
      "3x3,9,mesh,2,1.075,50.092,53.829,19.867,3\n",
      "6x6,36,sdn,16,0.910,65.940,60.000,3.643,5\n",
      "4x4,16,sdn,10,1.655,32.627,54.000,10.938,3\n",
      "6x6,36,mesh,4,0.156,453.590,70.729,3.933,9\n",
      "5x5,25,sdn,30,1.135,50.199,57.000,1.273,4\n",
      "2x2,4,sdn,40,5.818,8.250,48.000,25.812,1\n"
     ]
    },
    {
     "ename": "ValueError",
     "evalue": "invalid literal for int() with base 10: ' '",
     "output_type": "error",
     "traceback": [
      "\u001b[0;31m---------------------------------------------------------------------------\u001b[0m",
      "\u001b[0;31mValueError\u001b[0m                                Traceback (most recent call last)",
      "\u001b[1;32m/home/wifi/Downloads/simple/Idea-validation-ip-ccn/idea-validation.ipynb Cell 2'\u001b[0m in \u001b[0;36m<module>\u001b[0;34m\u001b[0m\n\u001b[1;32m     <a href='vscode-notebook-cell://ssh-remote%2B192.168.1.7/home/wifi/Downloads/simple/Idea-validation-ip-ccn/idea-validation.ipynb#ch0000001vscode-remote?line=33'>34</a>\u001b[0m     _avgJmp \u001b[39m=\u001b[39m (_avgJmp \u001b[39m*\u001b[39m (_numRcd \u001b[39m-\u001b[39m \u001b[39m1\u001b[39m) \u001b[39m+\u001b[39m _curJmp) \u001b[39m/\u001b[39m _numRcd\n\u001b[1;32m     <a href='vscode-notebook-cell://ssh-remote%2B192.168.1.7/home/wifi/Downloads/simple/Idea-validation-ip-ccn/idea-validation.ipynb#ch0000001vscode-remote?line=34'>35</a>\u001b[0m \u001b[39melif\u001b[39;00m line[\u001b[39m44\u001b[39m] \u001b[39m==\u001b[39m \u001b[39m'\u001b[39m\u001b[39m9\u001b[39m\u001b[39m'\u001b[39m :\n\u001b[0;32m---> <a href='vscode-notebook-cell://ssh-remote%2B192.168.1.7/home/wifi/Downloads/simple/Idea-validation-ip-ccn/idea-validation.ipynb#ch0000001vscode-remote?line=35'>36</a>\u001b[0m     _hr \u001b[39m=\u001b[39m \u001b[39mint\u001b[39;49m(line[\u001b[39m-\u001b[39;49m\u001b[39m15\u001b[39;49m:\u001b[39m-\u001b[39;49m\u001b[39m14\u001b[39;49m])\n\u001b[1;32m     <a href='vscode-notebook-cell://ssh-remote%2B192.168.1.7/home/wifi/Downloads/simple/Idea-validation-ip-ccn/idea-validation.ipynb#ch0000001vscode-remote?line=36'>37</a>\u001b[0m     _mn \u001b[39m=\u001b[39m \u001b[39mint\u001b[39m(line[\u001b[39m-\u001b[39m\u001b[39m13\u001b[39m:\u001b[39m-\u001b[39m\u001b[39m11\u001b[39m])\n\u001b[1;32m     <a href='vscode-notebook-cell://ssh-remote%2B192.168.1.7/home/wifi/Downloads/simple/Idea-validation-ip-ccn/idea-validation.ipynb#ch0000001vscode-remote?line=37'>38</a>\u001b[0m     _se \u001b[39m=\u001b[39m \u001b[39mint\u001b[39m(line[\u001b[39m-\u001b[39m\u001b[39m10\u001b[39m:\u001b[39m-\u001b[39m\u001b[39m8\u001b[39m])\n",
      "\u001b[0;31mValueError\u001b[0m: invalid literal for int() with base 10: ' '"
     ]
    }
   ],
   "source": [
    "try:\n",
    "    os.chdir('/home/wifi/Downloads/simple/Idea-validation-ip-ccn/TestLogs')\n",
    "except FileNotFoundError :\n",
    "    pass\n",
    "for fileName in os.listdir():\n",
    "    try:\n",
    "        with open(fileName, 'r') as fp :\n",
    "            _avgTpt = 0\n",
    "            _avgSiz = 0\n",
    "            _curSiz = 0\n",
    "            _curLat = 0\n",
    "            _avgLat = 0\n",
    "            _avgJmp = 0\n",
    "            _curJmp = 0\n",
    "            _numRcd = 0\n",
    "            _timTrk = 0\n",
    "            _avgPdr = 0\n",
    "            _srtNum = 0\n",
    "            _numSec = 0\n",
    "            for line in fp.readlines():\n",
    "                try:\n",
    "                    if line[18] != _timTrk :\n",
    "                        if _timTrk :\n",
    "                            _numSec += 1\n",
    "                            _avgPdr = (_avgPdr * (_numSec - 1) +  _numRcd - _srtNum) / _numSec\n",
    "                            _srtNum = _numRcd\n",
    "                        _timTrk = line[18]\n",
    "                    if line[44] == '7' :\n",
    "                        _curSiz = int(line[-4:])\n",
    "                        _numRcd += 1\n",
    "                        _avgSiz = (_avgSiz * (_numRcd - 1) + _curSiz) / _numRcd\n",
    "                    elif line[44] == '8' :\n",
    "                        _curJmp = line[45:].count(',')\n",
    "                        _avgJmp = (_avgJmp * (_numRcd - 1) + _curJmp) / _numRcd\n",
    "                    elif line[44] == '9' :\n",
    "                        _hr = int(line[-15:-14])\n",
    "                        _mn = int(line[-13:-11])\n",
    "                        _se = int(line[-10:-8])\n",
    "                        _mr = int(line[-7:])\n",
    "                        if not _hr and not _mn :\n",
    "                            _curLat = _se * 1000 + _mr / 1000\n",
    "                        else :\n",
    "                            _curLat = _hr * 60 * 60 * 1000000 + _mn * 60 * 1000000 + _se * 1000 + _mr / 1000\n",
    "                        _avgLat = (_avgLat * (_numRcd - 1) + _curLat) / _numRcd\n",
    "                except IndexError:\n",
    "                    pass\n",
    "        _avgSiz = round(_avgSiz, 3)\n",
    "        _avgLat = round(_avgLat, 3)\n",
    "        _avgTpt = round(_avgSiz / _avgLat, 3)\n",
    "        _avgPdr = round(_avgPdr, 3)\n",
    "        _avgJmp = round(_avgJmp)\n",
    "        _numOfNodes = int(fileName[0]) * int(fileName[0])\n",
    "        _mode = 'sdn' if fileName[4] == 'a' else 'mesh'\n",
    "        _loss = None\n",
    "        try:\n",
    "            _loss = int(fileName[6:8]) * 2\n",
    "        except ValueError :\n",
    "            _loss = int(fileName[6]) * 2\n",
    "        print(\"{0},{1:d},{2:},{3:d},{4:.3f},{5:.3f},{6:.3f},{7:.3f},{8:d}\".format(fileName[:3], _numOfNodes, _mode, _loss, _avgTpt, _avgLat, _avgSiz, _avgPdr, _avgJmp))\n",
    "    except ZeroDivisionError:\n",
    "        pass"
   ]
  },
  {
   "cell_type": "code",
   "execution_count": 84,
   "metadata": {},
   "outputs": [
    {
     "data": {
      "text/plain": [
       "18"
      ]
     },
     "execution_count": 84,
     "metadata": {},
     "output_type": "execute_result"
    }
   ],
   "source": [
    "'25/02/2022 05:08:2'.__len__()"
   ]
  }
 ],
 "metadata": {
  "kernelspec": {
   "display_name": "Python 3",
   "language": "python",
   "name": "python3"
  },
  "language_info": {
   "codemirror_mode": {
    "name": "ipython",
    "version": 3
   },
   "file_extension": ".py",
   "mimetype": "text/x-python",
   "name": "python",
   "nbconvert_exporter": "python",
   "pygments_lexer": "ipython3",
   "version": "3.8.5"
  },
  "orig_nbformat": 4
 },
 "nbformat": 4,
 "nbformat_minor": 2
}
